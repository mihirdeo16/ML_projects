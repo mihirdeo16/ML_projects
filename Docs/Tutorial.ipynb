{
  "nbformat": 4,
  "nbformat_minor": 0,
  "metadata": {
    "colab": {
      "name": "Tutorial.ipynb",
      "provenance": [],
      "collapsed_sections": [],
      "authorship_tag": "ABX9TyMIga6Kb9oZ8KO1jjJB8wRJ",
      "include_colab_link": true
    },
    "kernelspec": {
      "name": "python3",
      "display_name": "Python 3"
    },
    "language_info": {
      "name": "python"
    }
  },
  "cells": [
    {
      "cell_type": "markdown",
      "metadata": {
        "id": "view-in-github",
        "colab_type": "text"
      },
      "source": [
        "<a href=\"https://colab.research.google.com/github/mihir-workspace/ML_projects/blob/main/Docs/Tutorial.ipynb\" target=\"_parent\"><img src=\"https://colab.research.google.com/assets/colab-badge.svg\" alt=\"Open In Colab\"/></a>"
      ]
    },
    {
      "cell_type": "markdown",
      "source": [
        "# A/B Testing\n",
        "\n",
        "A library designed to help the Data scientist, Developer & Data analyst to quickly build report and analysis the performance of the A/B test. Link to GitHub and Pypi can be found below.\n",
        "\n",
        "+ [GitHub-ab-testing](https://github.com/mihir-workspace/ab-testing)\n",
        "\n",
        "+ [PyPi-ab-testing](https://pypi.org/project/ab-testing-analysis/)"
      ],
      "metadata": {
        "id": "RqIdTVaIOSoj"
      }
    },
    {
      "cell_type": "code",
      "execution_count": 1,
      "metadata": {
        "id": "yaarZzX3bsek",
        "colab": {
          "base_uri": "https://localhost:8080/"
        },
        "outputId": "454f40c7-a008-489e-89e1-95dc04cb68a4"
      },
      "outputs": [
        {
          "output_type": "stream",
          "name": "stdout",
          "text": [
            "Looking in indexes: https://pypi.org/simple, https://us-python.pkg.dev/colab-wheels/public/simple/\n",
            "Collecting ab-testing-analysis\n",
            "  Downloading ab_testing_analysis-0.1.4-py3-none-any.whl (5.5 kB)\n",
            "Requirement already satisfied: numpy in /usr/local/lib/python3.7/dist-packages (from ab-testing-analysis) (1.21.6)\n",
            "Requirement already satisfied: pandas in /usr/local/lib/python3.7/dist-packages (from ab-testing-analysis) (1.3.5)\n",
            "Requirement already satisfied: pytz>=2017.3 in /usr/local/lib/python3.7/dist-packages (from pandas->ab-testing-analysis) (2022.1)\n",
            "Requirement already satisfied: python-dateutil>=2.7.3 in /usr/local/lib/python3.7/dist-packages (from pandas->ab-testing-analysis) (2.8.2)\n",
            "Requirement already satisfied: six>=1.5 in /usr/local/lib/python3.7/dist-packages (from python-dateutil>=2.7.3->pandas->ab-testing-analysis) (1.15.0)\n",
            "Installing collected packages: ab-testing-analysis\n",
            "Successfully installed ab-testing-analysis-0.1.4\n"
          ]
        }
      ],
      "source": [
        "!pip install ab-testing-analysis"
      ]
    },
    {
      "cell_type": "markdown",
      "source": [
        "Import the ABTest class, which has methods to build the A/B report.\n",
        "----\n",
        "In this usecase will use a fake dataset, from Dataset class to create the users and related information, by importing the ``Dataset`` class"
      ],
      "metadata": {
        "id": "q_yyUxVAOwKE"
      }
    },
    {
      "cell_type": "code",
      "source": [
        "# Importing the library\n",
        "from ab_testing import ABTest\n",
        "from ab_testing.data import Dataset"
      ],
      "metadata": {
        "id": "w2kGgn8ZNjjN"
      },
      "execution_count": 3,
      "outputs": []
    },
    {
      "cell_type": "code",
      "source": [
        "# Creating the Dataframe of Users, their response and Group they belong to\n",
        "df = Dataset().data()\n",
        "df.head()"
      ],
      "metadata": {
        "colab": {
          "base_uri": "https://localhost:8080/",
          "height": 206
        },
        "id": "xWqP4FKHNqPr",
        "outputId": "05a9bbfa-268f-48f0-b78b-7fdbab3fe43d"
      },
      "execution_count": 6,
      "outputs": [
        {
          "output_type": "execute_result",
          "data": {
            "text/plain": [
              "        Users  Response Group\n",
              "0  EVZ1J8HCTA         0     A\n",
              "1  V3M8R4EQR5         0     A\n",
              "2  RI7WOAJ0YK         1     A\n",
              "3  MRTH3Q0AGL         0     A\n",
              "4  XN2VNRV4PE         0     A"
            ],
            "text/html": [
              "\n",
              "  <div id=\"df-04a6e0a3-4f2a-4401-a7f8-98cd61c0e8bf\">\n",
              "    <div class=\"colab-df-container\">\n",
              "      <div>\n",
              "<style scoped>\n",
              "    .dataframe tbody tr th:only-of-type {\n",
              "        vertical-align: middle;\n",
              "    }\n",
              "\n",
              "    .dataframe tbody tr th {\n",
              "        vertical-align: top;\n",
              "    }\n",
              "\n",
              "    .dataframe thead th {\n",
              "        text-align: right;\n",
              "    }\n",
              "</style>\n",
              "<table border=\"1\" class=\"dataframe\">\n",
              "  <thead>\n",
              "    <tr style=\"text-align: right;\">\n",
              "      <th></th>\n",
              "      <th>Users</th>\n",
              "      <th>Response</th>\n",
              "      <th>Group</th>\n",
              "    </tr>\n",
              "  </thead>\n",
              "  <tbody>\n",
              "    <tr>\n",
              "      <th>0</th>\n",
              "      <td>EVZ1J8HCTA</td>\n",
              "      <td>0</td>\n",
              "      <td>A</td>\n",
              "    </tr>\n",
              "    <tr>\n",
              "      <th>1</th>\n",
              "      <td>V3M8R4EQR5</td>\n",
              "      <td>0</td>\n",
              "      <td>A</td>\n",
              "    </tr>\n",
              "    <tr>\n",
              "      <th>2</th>\n",
              "      <td>RI7WOAJ0YK</td>\n",
              "      <td>1</td>\n",
              "      <td>A</td>\n",
              "    </tr>\n",
              "    <tr>\n",
              "      <th>3</th>\n",
              "      <td>MRTH3Q0AGL</td>\n",
              "      <td>0</td>\n",
              "      <td>A</td>\n",
              "    </tr>\n",
              "    <tr>\n",
              "      <th>4</th>\n",
              "      <td>XN2VNRV4PE</td>\n",
              "      <td>0</td>\n",
              "      <td>A</td>\n",
              "    </tr>\n",
              "  </tbody>\n",
              "</table>\n",
              "</div>\n",
              "      <button class=\"colab-df-convert\" onclick=\"convertToInteractive('df-04a6e0a3-4f2a-4401-a7f8-98cd61c0e8bf')\"\n",
              "              title=\"Convert this dataframe to an interactive table.\"\n",
              "              style=\"display:none;\">\n",
              "        \n",
              "  <svg xmlns=\"http://www.w3.org/2000/svg\" height=\"24px\"viewBox=\"0 0 24 24\"\n",
              "       width=\"24px\">\n",
              "    <path d=\"M0 0h24v24H0V0z\" fill=\"none\"/>\n",
              "    <path d=\"M18.56 5.44l.94 2.06.94-2.06 2.06-.94-2.06-.94-.94-2.06-.94 2.06-2.06.94zm-11 1L8.5 8.5l.94-2.06 2.06-.94-2.06-.94L8.5 2.5l-.94 2.06-2.06.94zm10 10l.94 2.06.94-2.06 2.06-.94-2.06-.94-.94-2.06-.94 2.06-2.06.94z\"/><path d=\"M17.41 7.96l-1.37-1.37c-.4-.4-.92-.59-1.43-.59-.52 0-1.04.2-1.43.59L10.3 9.45l-7.72 7.72c-.78.78-.78 2.05 0 2.83L4 21.41c.39.39.9.59 1.41.59.51 0 1.02-.2 1.41-.59l7.78-7.78 2.81-2.81c.8-.78.8-2.07 0-2.86zM5.41 20L4 18.59l7.72-7.72 1.47 1.35L5.41 20z\"/>\n",
              "  </svg>\n",
              "      </button>\n",
              "      \n",
              "  <style>\n",
              "    .colab-df-container {\n",
              "      display:flex;\n",
              "      flex-wrap:wrap;\n",
              "      gap: 12px;\n",
              "    }\n",
              "\n",
              "    .colab-df-convert {\n",
              "      background-color: #E8F0FE;\n",
              "      border: none;\n",
              "      border-radius: 50%;\n",
              "      cursor: pointer;\n",
              "      display: none;\n",
              "      fill: #1967D2;\n",
              "      height: 32px;\n",
              "      padding: 0 0 0 0;\n",
              "      width: 32px;\n",
              "    }\n",
              "\n",
              "    .colab-df-convert:hover {\n",
              "      background-color: #E2EBFA;\n",
              "      box-shadow: 0px 1px 2px rgba(60, 64, 67, 0.3), 0px 1px 3px 1px rgba(60, 64, 67, 0.15);\n",
              "      fill: #174EA6;\n",
              "    }\n",
              "\n",
              "    [theme=dark] .colab-df-convert {\n",
              "      background-color: #3B4455;\n",
              "      fill: #D2E3FC;\n",
              "    }\n",
              "\n",
              "    [theme=dark] .colab-df-convert:hover {\n",
              "      background-color: #434B5C;\n",
              "      box-shadow: 0px 1px 3px 1px rgba(0, 0, 0, 0.15);\n",
              "      filter: drop-shadow(0px 1px 2px rgba(0, 0, 0, 0.3));\n",
              "      fill: #FFFFFF;\n",
              "    }\n",
              "  </style>\n",
              "\n",
              "      <script>\n",
              "        const buttonEl =\n",
              "          document.querySelector('#df-04a6e0a3-4f2a-4401-a7f8-98cd61c0e8bf button.colab-df-convert');\n",
              "        buttonEl.style.display =\n",
              "          google.colab.kernel.accessAllowed ? 'block' : 'none';\n",
              "\n",
              "        async function convertToInteractive(key) {\n",
              "          const element = document.querySelector('#df-04a6e0a3-4f2a-4401-a7f8-98cd61c0e8bf');\n",
              "          const dataTable =\n",
              "            await google.colab.kernel.invokeFunction('convertToInteractive',\n",
              "                                                     [key], {});\n",
              "          if (!dataTable) return;\n",
              "\n",
              "          const docLinkHtml = 'Like what you see? Visit the ' +\n",
              "            '<a target=\"_blank\" href=https://colab.research.google.com/notebooks/data_table.ipynb>data table notebook</a>'\n",
              "            + ' to learn more about interactive tables.';\n",
              "          element.innerHTML = '';\n",
              "          dataTable['output_type'] = 'display_data';\n",
              "          await google.colab.output.renderOutput(dataTable, element);\n",
              "          const docLink = document.createElement('div');\n",
              "          docLink.innerHTML = docLinkHtml;\n",
              "          element.appendChild(docLink);\n",
              "        }\n",
              "      </script>\n",
              "    </div>\n",
              "  </div>\n",
              "  "
            ]
          },
          "metadata": {},
          "execution_count": 6
        }
      ]
    },
    {
      "cell_type": "markdown",
      "source": [
        "## Data\n",
        "Dataframe contain the, information on following things\n",
        "+ **Response** from the user on test either **1** or **0** which indicate the whether he converted or not converted in the test.\n",
        "+ **Group** column which indicate in which group/test this user belong to A or B."
      ],
      "metadata": {
        "id": "8qjEOBnjvB-D"
      }
    },
    {
      "cell_type": "code",
      "source": [
        "print('Total number of the Users/records: ',df.shape[0])\n",
        "print(f'Number of Groups, {df.Group.nunique()} and their labels {df.Group.unique()}')\n",
        "print(f'Response types, {df.Response.unique()}','\\n')\n",
        "\n",
        "print('Group \"A\" response distribution')\n",
        "print(df[df.Group=='A'].Response.value_counts())\n",
        "print('\\nGroup \"B\" response distribution')\n",
        "print(df[df.Group=='B'].Response.value_counts())"
      ],
      "metadata": {
        "colab": {
          "base_uri": "https://localhost:8080/"
        },
        "id": "cECE1sE8O5ju",
        "outputId": "3f53ebd5-b82d-4517-dbc9-65797a2efc17"
      },
      "execution_count": 10,
      "outputs": [
        {
          "output_type": "stream",
          "name": "stdout",
          "text": [
            "Total number of the Users/records:  1000\n",
            "Number of Groups, 2 and their labels ['A' 'B']\n",
            "Response types, [0 1] \n",
            "\n",
            "Group \"A\" response distribution\n",
            "0    411\n",
            "1     89\n",
            "Name: Response, dtype: int64\n",
            "\n",
            "Group \"B\" response distribution\n",
            "0    396\n",
            "1    104\n",
            "Name: Response, dtype: int64\n"
          ]
        }
      ]
    },
    {
      "cell_type": "markdown",
      "source": [
        "## Conversion rate report\n",
        "Class parameters,\n",
        "\n",
        "+ df = A dataframe which has Users, Response column and Group column\n",
        "+ response_column = A column which has 1 or 0 correspond for the users which being converted or not respectively.\n",
        "+ group_column = A column name which indicate the user belong to which group **A** or **B**"
      ],
      "metadata": {
        "id": "kswac6zKPAFk"
      }
    },
    {
      "cell_type": "code",
      "source": [
        "ab_obj = ABTest(df,response_column='Response',group_column='Group')\n",
        "\n",
        "print(ab_obj.conversion_rate())"
      ],
      "metadata": {
        "colab": {
          "base_uri": "https://localhost:8080/"
        },
        "id": "u30U6XZrO7_R",
        "outputId": "e8017cb9-11e4-4200-b96a-ca59adb350e3"
      },
      "execution_count": 11,
      "outputs": [
        {
          "output_type": "stream",
          "name": "stdout",
          "text": [
            "  Conversion Rate Standard Deviation Standar Error\n",
            "A          17.80%              0.383        0.0171\n",
            "B          20.80%              0.406        0.0182\n"
          ]
        }
      ]
    },
    {
      "cell_type": "markdown",
      "source": [
        "## END"
      ],
      "metadata": {
        "id": "dBQDvhkWPEtQ"
      }
    }
  ]
}